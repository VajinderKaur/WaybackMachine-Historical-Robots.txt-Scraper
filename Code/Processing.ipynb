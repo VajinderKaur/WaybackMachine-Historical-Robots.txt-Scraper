{
 "cells": [
  {
   "cell_type": "code",
   "execution_count": 1,
   "metadata": {},
   "outputs": [
    {
     "data": {
      "text/plain": [
       "(1794147, 5)"
      ]
     },
     "execution_count": 1,
     "metadata": {},
     "output_type": "execute_result"
    }
   ],
   "source": [
    "import pandas as pd \n",
    "data1 = pd.read_csv('Group2.csv')\n",
    "data1.shape\n",
    "#df = data1[data1['Domain'] == 'spiegel.de']\n",
    "#df.tail()"
   ]
  },
  {
   "cell_type": "code",
   "execution_count": 15,
   "metadata": {},
   "outputs": [],
   "source": [
    "df = pd.read_csv(\"Blocked.csv\")\n",
    "df1 = df.groupby(['Domain', 'Timestamp'], as_index=False).agg({\n",
    "    'UserAgent': ', '.join,  # Join user agents with a comma\n",
    "    'RobotsTxt': 'first',    # Keep the first RobotsTxt entry (you could also choose another logic)\n",
    "    'Blocked_Crawlers': 'first'  # Keep the first Blocked_Crawlers entry\n",
    "})\n",
    "df1.to_csv(\"UpdatedGroup2.csv\")"
   ]
  },
  {
   "cell_type": "code",
   "execution_count": 54,
   "metadata": {},
   "outputs": [
    {
     "data": {
      "text/html": [
       "<div>\n",
       "<style scoped>\n",
       "    .dataframe tbody tr th:only-of-type {\n",
       "        vertical-align: middle;\n",
       "    }\n",
       "\n",
       "    .dataframe tbody tr th {\n",
       "        vertical-align: top;\n",
       "    }\n",
       "\n",
       "    .dataframe thead th {\n",
       "        text-align: right;\n",
       "    }\n",
       "</style>\n",
       "<table border=\"1\" class=\"dataframe\">\n",
       "  <thead>\n",
       "    <tr style=\"text-align: right;\">\n",
       "      <th></th>\n",
       "      <th>Unnamed: 0</th>\n",
       "      <th>Domain</th>\n",
       "      <th>Timestamp</th>\n",
       "      <th>UserAgent</th>\n",
       "      <th>RobotsTxt</th>\n",
       "      <th>Blocked_Crawlers</th>\n",
       "    </tr>\n",
       "  </thead>\n",
       "  <tbody>\n",
       "    <tr>\n",
       "      <th>0</th>\n",
       "      <td>0</td>\n",
       "      <td>adweek.com</td>\n",
       "      <td>20230601000929</td>\n",
       "      <td>*, Googlebot, AdsBot-Google, Googlebot-Image, ...</td>\n",
       "      <td>User-agent: *\\nDisallow: /wp-admin/\\nAllow: /w...</td>\n",
       "      <td>*</td>\n",
       "    </tr>\n",
       "    <tr>\n",
       "      <th>1</th>\n",
       "      <td>1</td>\n",
       "      <td>adweek.com</td>\n",
       "      <td>20230601003232</td>\n",
       "      <td>*, Googlebot, AdsBot-Google, Googlebot-Image, ...</td>\n",
       "      <td>User-agent: *\\nDisallow: /wp-admin/\\nAllow: /w...</td>\n",
       "      <td>*</td>\n",
       "    </tr>\n",
       "    <tr>\n",
       "      <th>2</th>\n",
       "      <td>2</td>\n",
       "      <td>adweek.com</td>\n",
       "      <td>20230601012331</td>\n",
       "      <td>*, Googlebot, AdsBot-Google, Googlebot-Image, ...</td>\n",
       "      <td>User-agent: *\\nDisallow: /wp-admin/\\nAllow: /w...</td>\n",
       "      <td>*</td>\n",
       "    </tr>\n",
       "    <tr>\n",
       "      <th>3</th>\n",
       "      <td>3</td>\n",
       "      <td>adweek.com</td>\n",
       "      <td>20230601014812</td>\n",
       "      <td>*, Googlebot, AdsBot-Google, Googlebot-Image, ...</td>\n",
       "      <td>User-agent: *\\nDisallow: /wp-admin/\\nAllow: /w...</td>\n",
       "      <td>*</td>\n",
       "    </tr>\n",
       "    <tr>\n",
       "      <th>4</th>\n",
       "      <td>4</td>\n",
       "      <td>adweek.com</td>\n",
       "      <td>20230601021814</td>\n",
       "      <td>*, Googlebot, AdsBot-Google, Googlebot-Image, ...</td>\n",
       "      <td>User-agent: *\\nDisallow: /wp-admin/\\nAllow: /w...</td>\n",
       "      <td>*</td>\n",
       "    </tr>\n",
       "  </tbody>\n",
       "</table>\n",
       "</div>"
      ],
      "text/plain": [
       "   Unnamed: 0      Domain       Timestamp  \\\n",
       "0           0  adweek.com  20230601000929   \n",
       "1           1  adweek.com  20230601003232   \n",
       "2           2  adweek.com  20230601012331   \n",
       "3           3  adweek.com  20230601014812   \n",
       "4           4  adweek.com  20230601021814   \n",
       "\n",
       "                                           UserAgent  \\\n",
       "0  *, Googlebot, AdsBot-Google, Googlebot-Image, ...   \n",
       "1  *, Googlebot, AdsBot-Google, Googlebot-Image, ...   \n",
       "2  *, Googlebot, AdsBot-Google, Googlebot-Image, ...   \n",
       "3  *, Googlebot, AdsBot-Google, Googlebot-Image, ...   \n",
       "4  *, Googlebot, AdsBot-Google, Googlebot-Image, ...   \n",
       "\n",
       "                                           RobotsTxt Blocked_Crawlers  \n",
       "0  User-agent: *\\nDisallow: /wp-admin/\\nAllow: /w...                *  \n",
       "1  User-agent: *\\nDisallow: /wp-admin/\\nAllow: /w...                *  \n",
       "2  User-agent: *\\nDisallow: /wp-admin/\\nAllow: /w...                *  \n",
       "3  User-agent: *\\nDisallow: /wp-admin/\\nAllow: /w...                *  \n",
       "4  User-agent: *\\nDisallow: /wp-admin/\\nAllow: /w...                *  "
      ]
     },
     "execution_count": 54,
     "metadata": {},
     "output_type": "execute_result"
    }
   ],
   "source": [
    "import pandas as pd \n",
    "data1 = pd.read_csv('UpdatedGroup1.csv') #340274, 51162\n",
    "\n",
    "data1.head()"
   ]
  },
  {
   "cell_type": "code",
   "execution_count": 50,
   "metadata": {},
   "outputs": [],
   "source": [
    "#Use this to stack different tables if contains different domains in both. \n",
    "table1 = pd.read_csv(\"Group2(mergedtillnow).csv\") \n",
    "table2 = pd.read_csv(\"nytimes.csv\")\n",
    "merged_df = pd.concat([table1, table2], ignore_index=True)\n",
    "merged_df.to_csv(\"Group2.csv\", index=False)"
   ]
  },
  {
   "cell_type": "code",
   "execution_count": null,
   "metadata": {},
   "outputs": [],
   "source": [
    "#if two groups containing same domains but different timelines, use this block to merge them\n",
    "\n",
    "group1 = pd.read_csv(\"Group2.csv\")\n",
    "group2 = pd.read_csv(\"Group22.csv\")\n",
    "\n",
    "#print(group1.columns) In case it gives error about columns not matching\n",
    "#print(group2.columns)\n",
    "\n",
    "merged_df = pd.concat([group1, group2], ignore_index=True)\n",
    "\n",
    "merged_df = merged_df.sort_values(by=[\"Domain\", \"Timestamp\"])\n",
    "\n",
    "merged_df.to_csv(\"Merged.csv\", index=False)\n",
    "\n",
    "print(merged_df.head())"
   ]
  }
 ],
 "metadata": {
  "kernelspec": {
   "display_name": "venv",
   "language": "python",
   "name": "python3"
  },
  "language_info": {
   "codemirror_mode": {
    "name": "ipython",
    "version": 3
   },
   "file_extension": ".py",
   "mimetype": "text/x-python",
   "name": "python",
   "nbconvert_exporter": "python",
   "pygments_lexer": "ipython3",
   "version": "3.6.8"
  }
 },
 "nbformat": 4,
 "nbformat_minor": 2
}
